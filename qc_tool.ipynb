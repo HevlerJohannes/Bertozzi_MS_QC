{
 "cells": [
  {
   "cell_type": "markdown",
   "metadata": {
    "id": "1XR42tTjGclJ"
   },
   "source": [
    "# <img src=\"https://raw.githubusercontent.com/HevlerJohannes/Bertozzi_MS_QC/main/picture.png\" height=\"200\" align=\"right\" style=\"height:240px\">\n",
    "\n",
    "## **The offical mass spectrometry QC tool of the [Bertozzi group](https://bertozzigroup.stanford.edu/)**\n",
    "\n",
    "\n",
    "###### **Author:** Johannes F. Hevler (<jfhevler@stanford.edu>)\n",
    "###### **Github:** [Bertozzi_MS_OC](https://github.com/HevlerJohannes/Bertozzi_MS_QC)\n",
    "-------\n",
    "Easy to use QC analysis tool for the analysis of mass-spectrometry compatible (human) protein extracts ([Details](https://www.promega.com/products/mass-spectrometry/mass-spec-reference-reagents/mass-spec-compatible-yeast-and-human-protein-extracts/?catNum=V6951.)).\n",
    "\n",
    "This tool is based on the **MetaMorpheus** ([command line tool](https://github.com/smith-chem-wisc/MetaMorpheus/wiki/Getting-Started#test-installation-via-net-core-dll---linux-macos-windows)), developed by the [Lloyd M. Smith lab](https://pubs.acs.org/doi/10.1021/acs.jproteome.7b00873).\n",
    "\n",
    "**Usage**\n",
    "- For first time users: Go to the tools github page and follow instructions in the [README](https://github.com/HevlerJohannes/Bertozzi_MS_QC/blob/main/README.md).\n",
    "\n",
    " - To run the notebook cell by cell, press the little ▶ _Play_ button.\n",
    "\n",
    " - Alternatively, go to Runtime -> Run all (or Crtl + F9). After uploading the raw file you can then \"walk away\" and you will be notified by email once your search was completed.\n",
    "\n",
    "\n",
    "**Limitations**\n",
    "- This notebook is **primarly** designed for the QC data analysis to access the performance of a **Thermo Fischer Mass spectrometer (.raw files)**.\n",
    "\n",
    "- By default, this notebook does **NOT** support the usage of **Bruker .d spectral files**.\n",
    "\n",
    "- In order to use this colab you need to have a **google account** with access to [Google Drive](https://www.google.com/drive/) and [Gmail](https://mail.google.com/mail/u/0/).   "
   ]
  },
  {
   "cell_type": "code",
   "execution_count": 1,
   "metadata": {
    "cellView": "form",
    "colab": {
     "base_uri": "https://localhost:8080/",
     "height": 145
    },
    "executionInfo": {
     "elapsed": 125316,
     "status": "ok",
     "timestamp": 1751177724758,
     "user": {
      "displayName": "bertozzi_ms",
      "userId": "00856499242635123068"
     },
     "user_tz": 420
    },
    "id": "iQR2o-CKGU4t",
    "outputId": "1160d2d3-a61f-4dc7-a720-388f51c9b1fd"
   },
   "outputs": [
    {
     "name": "stdout",
     "output_type": "stream",
     "text": [
      "Mounted at /content/drive\n"
     ]
    },
    {
     "data": {
      "text/markdown": [
       "**Environment is getting set up for you...**"
      ],
      "text/plain": [
       "<IPython.core.display.Markdown object>"
      ]
     },
     "metadata": {},
     "output_type": "display_data"
    },
    {
     "name": "stdout",
     "output_type": "stream",
     "text": [
      "Updating package repositories...\n",
      "Installing dependencies...\n",
      "Still installing...\n"
     ]
    },
    {
     "data": {
      "text/markdown": [
       "**Set-up and installation of dependencies was successful.**"
      ],
      "text/plain": [
       "<IPython.core.display.Markdown object>"
      ]
     },
     "metadata": {},
     "output_type": "display_data"
    }
   ],
   "source": [
    "#@title **1. Set up GoogleColab environment and install dependencies**\n",
    "#@markdown\n",
    "#@markdown Please execute this cell by pressing the little ▶ _Play_ button\n",
    "#@markdown on the left to download and import neccessary dependencies!<br/>\n",
    "#@markdown Please be aware that this **`can take a bit of time`**.\n",
    "\n",
    "# Check whether google drive is mounted and if not mount to drive\n",
    "from google.colab import drive\n",
    "import os\n",
    "\n",
    "# Check if the directory '/content/drive' exists\n",
    "if not os.path.exists('/content/drive'):\n",
    "    # If it doesn't exist, mount Google Drive\n",
    "    drive.mount('/content/drive')\n",
    "else:\n",
    "    print(\"Already mounted to Google Drive.\")\n",
    "\n",
    "# Install dependencies needed to run this tool in Linux environment (GoogleColab).\n",
    "from IPython.display import Markdown, display\n",
    "\n",
    "def print_bold(string):\n",
    "    display(Markdown(f\"**{string}**\"))\n",
    "\n",
    "print_bold('Environment is getting set up for you...')\n",
    "\n",
    "try:\n",
    "\n",
    "  ## Updating package repositories...\n",
    "  print(\"Updating package repositories...\")\n",
    "  !apt-get update -qq >/dev/null 2>&1\n",
    "\n",
    "  ## Install dependencies to visualize chromatograms\n",
    "  print(\"Installing dependencies...\")\n",
    "  !pip install -q fisher_py >/dev/null 2>&1\n",
    "  !apt-get -qq install mono-complete >/dev/null 2>&1\n",
    "\n",
    "  ## Install  .NET SDK and make it executable\n",
    "  print(\"Still installing...\")\n",
    "  !wget https://dotnet.microsoft.com/download/dotnet/scripts/v1/dotnet-install.sh >/dev/null 2>&1\n",
    "  !chmod +x dotnet-install.sh >/dev/null 2>&1\n",
    "  !./dotnet-install.sh --install-dir /usr/share/dotnet --version 6.0.100 --verbose >/dev/null 2>&1\n",
    "\n",
    "except Exception:\n",
    "  # Code to handle the exception\n",
    "  print(\"An exception occurred - Installation of dependencies was not succesful\")\n",
    "\n",
    "else:\n",
    "\n",
    "  # Print a message indicating successful set up\n",
    "  print_bold(\"Set-up and installation of dependencies was successful.\")\n",
    "\n",
    "  # Import dependencies\n",
    "  import warnings\n",
    "  warnings.filterwarnings(\"ignore\")\n",
    "  from google.colab import files\n",
    "  import os\n",
    "  import re\n",
    "  import subprocess\n",
    "  import numpy as np\n",
    "  from scipy.interpolate import interp1d\n",
    "  import matplotlib.pyplot as plt\n",
    "  from fisher_py import RawFile\n",
    "  from fisher_py.data.business import TraceType\n",
    "  import random\n",
    "  import pandas as pd\n",
    "  import csv\n",
    "  import shutil\n",
    "  import smtplib\n",
    "  import sys\n",
    "  import mimetypes\n",
    "  from email.mime.image import MIMEImage\n",
    "  from email.mime.multipart import MIMEMultipart\n",
    "  from email.mime.text import MIMEText\n",
    "  from email.mime.base import MIMEBase\n",
    "  from email import encoders\n",
    "  from google.colab import files"
   ]
  },
  {
   "cell_type": "code",
   "execution_count": 2,
   "metadata": {
    "cellView": "form",
    "colab": {
     "base_uri": "https://localhost:8080/",
     "height": 0
    },
    "executionInfo": {
     "elapsed": 624,
     "status": "ok",
     "timestamp": 1751177725380,
     "user": {
      "displayName": "bertozzi_ms",
      "userId": "00856499242635123068"
     },
     "user_tz": 420
    },
    "id": "xsMq1rd4OISi",
    "outputId": "4195597e-c405-4774-e01b-ecf9d29d52ea"
   },
   "outputs": [
    {
     "data": {
      "text/markdown": [
       "**Great, I can see that 20250628_Fusion_QC_K562_200ng_plate_after_MLS.raw has been successfully uploaded by you. You are all set to start your QC search!**"
      ],
      "text/plain": [
       "<IPython.core.display.Markdown object>"
      ]
     },
     "metadata": {},
     "output_type": "display_data"
    }
   ],
   "source": [
    "#@title **2. Set up tool directory and upload a single .raw file for QC analysis**\n",
    "#@markdown\n",
    "#@markdown Please execute this cell by pressing the little ▶ _Play_ button\n",
    "#@markdown on the left to upload respective .raw file!\n",
    "#@markdown - Disclaimer: Uploading .raw files is slow, so you can also manually upload a file. In that case please\n",
    "#@markdown upload the .raw file to the raw folder in the **tool_dir/temp_data directory** and select **raw_file_uploaded: Yes**!<br>\n",
    "#@markdown - Make sure that only a single file is in the folder!\n",
    "#@markdown - For optimal performance use this naming convention:\n",
    "#@markdown  - \"date_instrument_add_info_user-initials.raw\" (e.g. 20231107_Fusion_QC_K562_after_calibration_JFH.raw)\n",
    "\n",
    "# Prompt the user to define the path to the QC tool\n",
    "tool_dir = '/content/drive/MyDrive/Bertozzi_QC' #@param {type:\"string\"}\n",
    "\n",
    "# Ask user whether raw file is uploaded\n",
    "raw_file_uploaded = 'Yes' #@param [\"Yes\", \"No\"]\n",
    "\n",
    "\n",
    "os.chdir(tool_dir+'/temp_data/')\n",
    "\n",
    "# Name of the folder you want to check/create\n",
    "folder_name = 'raw'\n",
    "\n",
    "# Path to the folder\n",
    "folder_path = os.path.join(tool_dir+'/temp_data/', folder_name)\n",
    "# Check if the folder exists\n",
    "if not os.path.exists(folder_path):\n",
    "    # Create the folder if it does not exist\n",
    "    os.makedirs(folder_path)\n",
    "\n",
    "if raw_file_uploaded == 'No':\n",
    "\n",
    "  # Prompt the user to upload a file\n",
    "  print_bold(\"Choose a single .raw file to upload:\")\n",
    "  uploaded = files.upload()\n",
    "\n",
    "  # Check if any files were uploaded\n",
    "  if len(uploaded) == 0:\n",
    "      print_bold('No file uploaded. Please try again.')\n",
    "  else:\n",
    "      # Get the first uploaded filename\n",
    "      filename = next(iter(uploaded))\n",
    "\n",
    "      # Check if the filename has the correct extension\n",
    "      if not filename.endswith('.raw'):\n",
    "          print_bold('Error: The uploaded file must have the .raw extension. Please upload a file with the correct extension.')\n",
    "\n",
    "          # Delete the uploaded file to stop the upload process\n",
    "          os.remove(filename)\n",
    "          print_bold(\"File deleted.\")\n",
    "\n",
    "      else:\n",
    "          # Continue with the upload process\n",
    "          print_bold('Great, ' + filename + ' has been successfully uploaded - you are all set to start your QC search!')\n",
    "\n",
    "else:\n",
    "  # Get a list of all files in the folder\n",
    "  files = os.listdir(folder_path)\n",
    "  # Check if any files were found\n",
    "  if len(files) == 0:\n",
    "    raise ValueError(print_bold('No files found in the .raw folder. Please check if the folder contains any files!'))\n",
    "\n",
    "  else:\n",
    "    # Print the file names\n",
    "    for file_name in files:\n",
    "      raw_filename = file_name\n",
    "      print_bold('Great, I can see that ' + file_name + ' has been successfully uploaded by you. You are all set to start your QC search!')\n"
   ]
  },
  {
   "cell_type": "code",
   "execution_count": 3,
   "metadata": {
    "cellView": "form",
    "colab": {
     "base_uri": "https://localhost:8080/",
     "height": 70
    },
    "executionInfo": {
     "elapsed": 593487,
     "status": "ok",
     "timestamp": 1751178318871,
     "user": {
      "displayName": "bertozzi_ms",
      "userId": "00856499242635123068"
     },
     "user_tz": 420
    },
    "id": "sTWCZqkVKqgE",
    "outputId": "1ec3f21e-c34a-4818-e2c3-dce650a1f084"
   },
   "outputs": [
    {
     "data": {
      "text/markdown": [
       "**Running metamorpheus search...**"
      ],
      "text/plain": [
       "<IPython.core.display.Markdown object>"
      ]
     },
     "metadata": {},
     "output_type": "display_data"
    },
    {
     "data": {
      "text/markdown": [
       "**...Finished metamorpheus search. Preparing summery and visualization of QC data!**"
      ],
      "text/plain": [
       "<IPython.core.display.Markdown object>"
      ]
     },
     "metadata": {},
     "output_type": "display_data"
    }
   ],
   "source": [
    "#@title **3. Perform QC analysis**\n",
    "#@markdown\n",
    "#@markdown Please execute this cell by pressing the little ▶ _Play_ button.<br/>\n",
    "#@markdown In order to run this a **single .raw** file needs to be uploaded (see **produced message section 2**).<br/>\n",
    "#@markdown - Disclaimer: This **`can take a bit of time (~10 min)`**.\n",
    "\n",
    "# Run metamorpheus analysis\n",
    "os.environ['PATH'] += \":/usr/share/dotnet\"\n",
    "os.chdir(tool_dir+'/metamorpheus')\n",
    "\n",
    "# Print a message indicating the start of the search\n",
    "print_bold(\"Running metamorpheus search...\")\n",
    "metamorpheus_run = subprocess.run(['dotnet', 'CMD.dll', '-t', tool_dir+'/bin/metamorpheus_search/Standard_qc_search.toml', '-s', folder_path+'/'+file_name, '-d', tool_dir+'/bin/metamorpheus_search/Human_UP000005640_9606.fasta', '-o', tool_dir+'/temp_data'], capture_output=True, text=True)\n",
    "\n",
    "# Print a message indicating the end of the search\n",
    "print_bold(\"...Finished metamorpheus search. Preparing summery and visualization of QC data!\")\n",
    "\n",
    "# Preparing summery and visualization of data\n",
    "## Get the path where metamorpheus results are stored\n",
    "start_pattern = r\"writing file: \"\n",
    "end_pattern = r\"/Task\"\n",
    "\n",
    "# Construct the regular expression pattern\n",
    "pattern = rf\"{re.escape(start_pattern)}(.*?){re.escape(end_pattern)}\"\n",
    "\n",
    "# Use re.search to find the first occurrence of the pattern\n",
    "match = re.search(pattern, metamorpheus_run.stdout)\n",
    "\n",
    "# Extract the matched string\n",
    "if match:\n",
    "    extracted_string = match.group(1)\n",
    "else:\n",
    "    raise ValueError(\"Path with metamorpheus search results cannot be found.\")\n"
   ]
  },
  {
   "cell_type": "code",
   "execution_count": 4,
   "metadata": {
    "cellView": "form",
    "colab": {
     "base_uri": "https://localhost:8080/",
     "height": 308
    },
    "executionInfo": {
     "elapsed": 47803,
     "status": "ok",
     "timestamp": 1751178366671,
     "user": {
      "displayName": "bertozzi_ms",
      "userId": "00856499242635123068"
     },
     "user_tz": 420
    },
    "id": "9CPXCLCaNeev",
    "outputId": "0e03427a-3035-4dd2-9409-40dc26da8a74"
   },
   "outputs": [
    {
     "data": {
      "text/markdown": [
       "**The newest QC data was added to /content/drive/MyDrive/Bertozzi_QC/performance_log/qc_performance_log.csv**"
      ],
      "text/plain": [
       "<IPython.core.display.Markdown object>"
      ]
     },
     "metadata": {},
     "output_type": "display_data"
    },
    {
     "data": {
      "image/png": "[encoded data removed]",
      "text/plain": [
       "<Figure size 1500x500 with 2 Axes>"
      ]
     },
     "metadata": {},
     "output_type": "display_data"
    }
   ],
   "source": [
    "#@title **4. Generate QC report and visualize results from search**\n",
    "#@markdown\n",
    "#@markdown ### Please execute this cell by pressing the little ▶ _Play_ button.<br/>\n",
    "\n",
    "#@markdown ---\n",
    "#@markdown ### Tick field, if your .raw file has this naming convention:\n",
    "#@markdown - \"date_instrument_add_info_user-initials.raw\"\n",
    "#@markdown  - (e.g. 20231107_Fusion_QC_K562_after_calibration_JFH.raw)\n",
    "correct_raw_file_naming = True #@param {type:\"boolean\"}\n",
    "\n",
    "if correct_raw_file_naming == True:\n",
    "  Date = re.search(r'\\d{8}', raw_filename).group()\n",
    "  MS_instrument = re.search(r'.*\\d{8}_(.*?)_.*', raw_filename).group(1)\n",
    "  Add_info = '_'.join(raw_filename.split('_')[2:-1])\n",
    "  QC_operator = re.search(r'.*_(.*?).raw.*', raw_filename).group(1)\n",
    "\n",
    "else:\n",
    "#@markdown ---\n",
    "#@markdown ### Add information manually if naming differs:\n",
    "#@markdown - only fill if file naming convention **differs** from aboves style.\n",
    "#@markdown - set **correct_raw_file_naming** to **False (untick)**\n",
    "  Date = '2024-07-02' #@param {type:\"date\"}\n",
    "  MS_instrument = '' #@param {type:\"string\"}\n",
    "  Add_info = '' #@param {type:\"string\"}\n",
    "  User_initials = '' #@param {type:\"string\"}\n",
    "\n",
    "# Define the pattern to extract the string between\n",
    "start_pattern = r\"writing file: \"\n",
    "end_pattern = r\"/Task\"\n",
    "\n",
    "# Construct the regular expression pattern\n",
    "pattern = rf\"{re.escape(start_pattern)}(.*?){re.escape(end_pattern)}\"\n",
    "\n",
    "# Use re.search to find the first occurrence of the pattern\n",
    "match = re.search(pattern, metamorpheus_run.stdout)\n",
    "\n",
    "# Extract the matched string\n",
    "if match:\n",
    "    extracted_string = match.group(1)\n",
    "else:\n",
    "    raise ValueError(\"Path with metamorpheus search results cannot be found.\")\n",
    "\n",
    "# Open summary file with search results:\n",
    "f = open(extracted_string + '/Task1SearchTask/results.txt', 'r')\n",
    "lines=f.readlines()\n",
    "result_sum = lines[4:22]\n",
    "\n",
    "result_sum_str = '\\n'.join(result_sum)\n",
    "result_sum_str_cleaned = re.sub(r'\\n{2,}', '\\n', result_sum_str)\n",
    "\n",
    "# Calculate m/z error\n",
    "psms_df = pd.read_csv(extracted_string + '/Task1SearchTask/AllPSMs.psmtsv', sep='\\t')\n",
    "psms_df['Mass Diff (ppm)'] = pd.to_numeric(psms_df['Mass Diff (ppm)'], errors='coerce')\n",
    "target_psms_df = psms_df[(psms_df['QValue'] < 0.01) & (psms_df['QValue Notch'] < 0.01)]\n",
    "target_psms_df['Mass Diff (ppm)'] = pd.to_numeric(target_psms_df['Mass Diff (ppm)'], errors='coerce')\n",
    "target_psms_df = target_psms_df.dropna(subset=['Mass Diff (ppm)'])\n",
    "ppm_error_q001 = np.nanmedian(target_psms_df['Mass Diff (ppm)'].values)\n",
    "ppm_error_notch0 = np.nanmedian(psms_df[psms_df['Notch'] == 0]['Mass Diff (ppm)'].values)\n",
    "# Add mass error to report\n",
    "# Define the pattern\n",
    "pattern_to_match = 'All target protein groups with q-value = 0.01 \\(1% FDR\\): (\\d+)'\n",
    "# String to insert\n",
    "insert_error = '\\nMedian ppm error with q-value = 0.01 = ' + f'{ppm_error_q001}\\nMedian ppm error with Notch = 0: ' + f'{ppm_error_notch0}'\n",
    "\n",
    "# Insert string to result summary\n",
    "result_sum_final = re.sub(pattern_to_match, f\"\\\\g<0>{insert_error}\", result_sum_str_cleaned)\n",
    "\n",
    "\n",
    "# Extract numbers to generate the report and track instrument performance\n",
    "import pandas as pd\n",
    "qc_data_df = pd.DataFrame({'rawfile': raw_filename, 'date': Date, 'instrument': MS_instrument,\n",
    "              'operator': QC_operator, 'info': Add_info,\n",
    "              'psms': int(re.search(r'All target PSMs with q-value = 0.01: (\\d+)', result_sum_str_cleaned).group(1)),\n",
    "              'peptides': int(re.search(r'All target peptides with q-value = 0.01 : (\\d+)', result_sum_str_cleaned).group(1)),\n",
    "              'proteins': int(re.search(r'All target protein groups with q-value = 0.01 \\(1% FDR\\): (\\d+)', result_sum_str_cleaned).group(1)),\n",
    "              'Median_ppm_error_target_psms': ppm_error_q001,\n",
    "              'Median_ppm_error_notch_0': ppm_error_notch0,\n",
    "              'number_ms2_spectra': int(re.search(r'MS2 spectra in ' + f'{file_name.split(\".raw\")[0]}' + ': (\\d+)', result_sum_str_cleaned).group(1))}, index=[0])\n",
    "\n",
    "# Append data to performance log file\n",
    "## Path to the CSV file\n",
    "file_path_logfile = tool_dir+'/performance_log/qc_performance_log.csv'\n",
    "\n",
    "# Check whether a file already exists\n",
    "if os.path.exists(file_path_logfile):\n",
    "  # Create a backup file\n",
    "  backup_file_path = file_path_logfile + '.bak'\n",
    "  shutil.copyfile(file_path_logfile, backup_file_path)\n",
    "  # Append data\n",
    "  qc_data_df.to_csv(file_path_logfile, mode='a', index=False, header=False)\n",
    "  print_bold('The newest QC data was added to '+ file_path_logfile)\n",
    "\n",
    "# If no performance log file exist, generate a new one\n",
    "else:\n",
    "  qc_data_df.to_csv(file_path_logfile, mode='w', index=False, header=True)\n",
    "  print_bold('A new QC log file was generated: file_path_logfile')\n",
    "\n",
    "# Visualizing\n",
    "os.environ[\"PYTHONNET_PYDLL\"] = \"/path/to/libcoreclr.so\"\n",
    "\n",
    "# Load raw files\n",
    "current_raw_file = RawFile(folder_path+'/'+file_name)\n",
    "qc_standard_raw_file = RawFile(tool_dir+'/bin/qc_standard_raw/20231107_Fusion_QC_K562_after_calibration_JFH.raw')\n",
    "target_mass = 0\n",
    "mass_tolerance_ppm = 0\n",
    "rt1, i1 = current_raw_file.get_chromatogram(target_mass, mass_tolerance_ppm, TraceType.TIC, ms_filter='ms')\n",
    "rt2, i2 = qc_standard_raw_file.get_chromatogram(target_mass, mass_tolerance_ppm, TraceType.TIC, ms_filter='ms')\n",
    "\n",
    "# Interpolate y2 to match the x values of y1\n",
    "f = interp1d(rt2, i2, kind='linear')\n",
    "\n",
    "# Clip the x-values of rt1 to ensure they fall within the range of rt2\n",
    "rt1_clipped = np.clip(rt1, rt2[0], rt2[-1])\n",
    "y2_interp = f(rt1_clipped)\n",
    "\n",
    "# Calculate the absolute difference between the two curves\n",
    "diff = np.abs(i1 - y2_interp)\n",
    "# Normalize the array to the range [0, 1]\n",
    "normalized_diff = (diff - np.min(diff)) / (np.max(diff) - np.min(diff))\n",
    "\n",
    "\n",
    "# Set a threshold for highlighting sections with the biggest differences\n",
    "threshold = 0.5\n",
    "\n",
    "# Create a boolean mask for highlighting\n",
    "highlight = normalized_diff > threshold\n",
    "\n",
    "# Create a figure with two subplots\n",
    "fig, (ax1, ax2) = plt.subplots(2, 1, figsize=(15, 5), sharex=True, sharey=True)\n",
    "\n",
    "# Plot the first curve and highlight differences\n",
    "ax1.plot(rt1, i1, label='Latest QC run', alpha=1, color='#7570b3')\n",
    "ax1.fill_between(rt1, i1, 0, alpha=0.5, color='#7570b3')\n",
    "for i in range(len(rt1) - 1):\n",
    "    if highlight[i]:\n",
    "        ax1.axvspan(rt1[i], rt1[i + 1], color='red', alpha=1)\n",
    "\n",
    "# Plot the second curve and highlight differences\n",
    "ax2.plot(rt1, y2_interp, label='Internal QC standard', alpha=1, color = '#1b9e77')\n",
    "ax2.fill_between(rt1, y2_interp, 0, alpha=0.5, color = '#1b9e77')\n",
    "for i in range(len(rt1) - 1):\n",
    "    if highlight[i]:\n",
    "        ax2.axvspan(rt1[i], rt1[i + 1], color='red', alpha=0.3)\n",
    "\n",
    "# Set labels and legends\n",
    "#ax1.set_xlabel('Retention Time')\n",
    "ax1.set_ylabel('TIC Intensity')\n",
    "ax1.legend()\n",
    "\n",
    "ax2.set_xlabel('Retention Time')\n",
    "ax2.set_ylabel('TIC Intensity')\n",
    "ax2.legend()\n",
    "plt.tight_layout()\n",
    "plt.subplots_adjust(hspace=0.085)\n",
    "\n",
    "# Save plot\n",
    "plt.savefig(tool_dir+'/temp_data/MS1_TIC_plot.png')\n",
    "\n",
    "# Show plot\n",
    "plt.show()\n"
   ]
  },
  {
   "cell_type": "code",
   "execution_count": null,
   "metadata": {
    "cellView": "form",
    "colab": {
     "base_uri": "https://localhost:8080/",
     "height": 46
    },
    "executionInfo": {
     "elapsed": 1456,
     "status": "ok",
     "timestamp": 1751178368153,
     "user": {
      "displayName": "bertozzi_ms",
      "userId": "00856499242635123068"
     },
     "user_tz": 420
    },
    "id": "6_1YjVhfuE_p",
    "outputId": "7417e887-61b0-4630-8720-0e0d870cd2a0"
   },
   "outputs": [
    {
     "data": {
      "text/markdown": [
       "**A credential file was found. Sending email...**"
      ],
      "text/plain": [
       "<IPython.core.display.Markdown object>"
      ]
     },
     "metadata": {},
     "output_type": "display_data"
    }
   ],
   "source": [
    "#@title **5. Summerize results and send email with results**\n",
    "#@markdown\n",
    "#@markdown Please execute this cell by pressing the little ▶ _Play_ button.<br/>\n",
    "#@markdown - Disclaimer: In order to run this you need to have a .txt file with your gmail login credentials in  **tool_dir/bin/email**.\n",
    "\n",
    "# Get a random motivational quote\n",
    "def get_random_line(file_path):\n",
    "    with open(file_path, 'r') as file:\n",
    "        lines = file.readlines()\n",
    "        random_line = random.choice(lines)\n",
    "    return random_line.strip()  # Strip to remove leading/trailing whitespaces\n",
    "\n",
    "file_path = tool_dir+'/bin/etc/motivational_quotes_formatted.txt'\n",
    "motivational_phrase = get_random_line(file_path)\n",
    "\n",
    "# Prepare email\n",
    "## Set Global Variables\n",
    "folder_path_credentials = tool_dir + '/bin/email/'\n",
    "file_name_credentials = \"login_credentials.txt\"\n",
    "file_path_credentials = os.path.join(folder_path_credentials, file_name_credentials)\n",
    "\n",
    "if os.path.exists(file_path_credentials):\n",
    "    print_bold(\"A credential file was found. Sending email...\")\n",
    "else:\n",
    "    print_bold(f\"No Gmail credential file exists. Please generate a .txt file named '{file_name_credentials}' in '{folder_path_credentials}'.\")\n",
    "    sys.exit()\n",
    "\n",
    "# Read lines, ignore comments and empty lines\n",
    "with open(file_path_credentials, 'r') as login_cred:\n",
    "    login_cred_lines = [\n",
    "        line.strip()\n",
    "        for line in login_cred\n",
    "        if line.strip() and not line.strip().startswith(\"#\")\n",
    "    ]\n",
    "\n",
    "# Expecting user and password to be the first two non-comment lines\n",
    "if len(login_cred_lines) < 2:\n",
    "    print_bold(\"Credential file is incomplete. It should contain at least two non-comment lines (email and password).\")\n",
    "    sys.exit()\n",
    "\n",
    "gmail_user = login_cred_lines[0]\n",
    "gmail_password = login_cred_lines[1]\n",
    "\n",
    "## Prompt the user to define email addresses\n",
    "mail_to = 'jfhevler@stanford.edu, dsroberts@stanford.edu, bmfloyd@stanford.edu, areiter@stanford.edu, mlschoof@stanford.edu' #@param {type:\"string\"}\n",
    "mail_to = mail_to.split(\", \")\n",
    "\n",
    "## Prepare the email content\n",
    "msg = MIMEMultipart()\n",
    "msg['From'] = gmail_user\n",
    "msg['To'] = ', '.join(mail_to)\n",
    "msg['Subject'] = 'Bertozzi-MS-Bot: QC results for ' + file_name\n",
    "\n",
    "greetings = \"Hi my fellow ionizers, \\n\\nPlease find below a summary of your QC results:\\n\"\n",
    "signature = \"Have a lovely day,\\nYour QC-Bot\"\n",
    "email_body = greetings + result_sum_final + signature + '\\n--------------------------------------------------\\n' + motivational_phrase\n",
    "\n",
    "msg.attach(MIMEText(email_body, 'plain'))\n",
    "\n",
    "## Add the image as an attachment\n",
    "image_path = tool_dir+'/temp_data/MS1_TIC_plot.png'  # Adjust this to the path of your image\n",
    "with open(image_path, 'rb') as f:\n",
    "  img_data = f.read()\n",
    "  image_type, _ = mimetypes.guess_type(image_path)\n",
    "  image_subtype = image_type.split('/')[-1]\n",
    "  image = MIMEImage(img_data, _subtype=image_subtype)\n",
    "  image.add_header('Content-Disposition', 'attachment', filename=file_name+'ms1_tic.png')\n",
    "  msg.attach(image)\n",
    "\n",
    "## Sent Email\n",
    "server = smtplib.SMTP_SSL('smtp.gmail.com', 465)\n",
    "server.login(gmail_user, gmail_password)\n",
    "server.sendmail(gmail_user, mail_to, msg.as_string())\n",
    "server.close()\n",
    "\n"
   ]
  },
  {
   "cell_type": "code",
   "execution_count": 6,
   "metadata": {
    "cellView": "form",
    "executionInfo": {
     "elapsed": 100,
     "status": "ok",
     "timestamp": 1751178368256,
     "user": {
      "displayName": "bertozzi_ms",
      "userId": "00856499242635123068"
     },
     "user_tz": 420
    },
    "id": "tFY6vowRXr0Q"
   },
   "outputs": [],
   "source": [
    "#@title **6. Delete content of temp_data folder**\n",
    "#@markdown\n",
    "#@markdown Please execute this cell by pressing the little ▶ _Play_ button.<br/>\n",
    "#@markdown - Disclaimer: Executing this cell will delete produced results in the temp_data folder.\n",
    "directory = tool_dir+'/temp_data/'\n",
    "\n",
    "# Get a list of all files in the directory\n",
    "for item in os.listdir(directory):\n",
    "    item_path = os.path.join(directory, item)\n",
    "    if os.path.isdir(item_path):\n",
    "        if item == 'raw':\n",
    "            # Delete all files inside the 'raw' directory\n",
    "            for filename in os.listdir(item_path):\n",
    "                file_path = os.path.join(item_path, filename)\n",
    "                try:\n",
    "                    if os.path.isfile(file_path) or os.path.islink(file_path):\n",
    "                        os.unlink(file_path)\n",
    "                    elif os.path.isdir(file_path):\n",
    "                        shutil.rmtree(file_path)\n",
    "                except Exception as e:\n",
    "                    print(f\"Failed to delete {file_path}. Reason: {e}\")\n",
    "        else:\n",
    "            # Delete the entire directory and its contents\n",
    "            shutil.rmtree(item_path)\n",
    "    elif os.path.isfile(item_path):\n",
    "        os.remove(item_path)\n"
   ]
  }
 ],
 "metadata": {
  "colab": {
   "provenance": []
  },
  "kernelspec": {
   "display_name": "Python 3",
   "name": "python3"
  },
  "language_info": {
   "name": "python"
  }
 },
 "nbformat": 4,
 "nbformat_minor": 0
}
